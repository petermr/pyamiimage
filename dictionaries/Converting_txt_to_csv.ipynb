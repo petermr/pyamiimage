{
  "nbformat": 4,
  "nbformat_minor": 0,
  "metadata": {
    "colab": {
      "name": "Converting .txt to csv.ipynb",
      "provenance": [],
      "authorship_tag": "ABX9TyOR3sIzsonWzBWouKv8JNLJ",
      "include_colab_link": true
    },
    "kernelspec": {
      "name": "python3",
      "display_name": "Python 3"
    },
    "language_info": {
      "name": "python"
    }
  },
  "cells": [
    {
      "cell_type": "markdown",
      "metadata": {
        "id": "view-in-github",
        "colab_type": "text"
      },
      "source": [
        "<a href=\"https://colab.research.google.com/github/petermr/pyamiimage/blob/main/dictionaries/Converting_txt_to_csv.ipynb\" target=\"_parent\"><img src=\"https://colab.research.google.com/assets/colab-badge.svg\" alt=\"Open In Colab\"/></a>"
      ]
    },
    {
      "cell_type": "markdown",
      "source": [
        "## Converting .txt file to csv.\n",
        "\n",
        "We convert the text file to csv as it is easy to edit."
      ],
      "metadata": {
        "id": "FVT__sR_1Hat"
      }
    },
    {
      "cell_type": "code",
      "execution_count": null,
      "metadata": {
        "id": "r_vQGtHE9jbV"
      },
      "outputs": [],
      "source": [
        "import pandas as pd"
      ]
    },
    {
      "cell_type": "code",
      "source": [
        "dataframe1 = pd.read_csv(\"terpenes list.txt\")\n",
        "  \n",
        "# storing this dataframe in a csv file\n",
        "dataframe1.to_csv('terpenes_list.csv', \n",
        "                  index = None)\n"
      ],
      "metadata": {
        "id": "pv6W3wYqen4M"
      },
      "execution_count": null,
      "outputs": []
    },
    {
      "cell_type": "code",
      "source": [
        "dataframe1 = pd.read_csv(\"terpene synthase pathway list.txt\")\n",
        "  \n",
        "# storing this dataframe in a csv file\n",
        "dataframe1.to_csv('terpene_synthase_list.csv', \n",
        "                  index = None)"
      ],
      "metadata": {
        "id": "4sVA51mMfMLm"
      },
      "execution_count": null,
      "outputs": []
    },
    {
      "cell_type": "code",
      "source": [
        "# reading given csv file\n",
        "# and creating dataframe\n",
        "websites = pd.read_csv(\"extracted_phrases.txt\"\n",
        "\t\t\t\t\t,header = None)\n",
        "\n",
        "# adding column headings\n",
        "websites.columns = ['Name']\n",
        "\n",
        "# store dataframe into csv file\n",
        "websites.to_csv('Phrases.csv',\n",
        "\t\t\t\tindex = None)\n",
        "\n"
      ],
      "metadata": {
        "id": "gB_dJIpH92Dr"
      },
      "execution_count": null,
      "outputs": []
    }
  ]
}