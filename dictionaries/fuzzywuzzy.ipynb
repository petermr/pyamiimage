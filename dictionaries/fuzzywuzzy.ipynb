{
  "nbformat": 4,
  "nbformat_minor": 0,
  "metadata": {
    "colab": {
      "name": "fuzzywuzzy.ipynb",
      "provenance": [],
      "authorship_tag": "ABX9TyMDJLU69ifkHeqYjrDn5EUm",
      "include_colab_link": true
    },
    "kernelspec": {
      "name": "python3",
      "display_name": "Python 3"
    },
    "language_info": {
      "name": "python"
    }
  },
  "cells": [
    {
      "cell_type": "markdown",
      "metadata": {
        "id": "view-in-github",
        "colab_type": "text"
      },
      "source": [
        "<a href=\"https://colab.research.google.com/github/petermr/pyamiimage/blob/roopa-testing/dictionaries/fuzzywuzzy.ipynb\" target=\"_parent\"><img src=\"https://colab.research.google.com/assets/colab-badge.svg\" alt=\"Open In Colab\"/></a>"
      ]
    },
    {
      "cell_type": "markdown",
      "source": [
        "## Fuzzywuzzy test\n",
        "\n",
        "Fuzzywuzzy is a library used to match strings in Python by producing a similarity index score out of 100.\n"
      ],
      "metadata": {
        "id": "JFDAsg_UFTIa"
      }
    },
    {
      "cell_type": "code",
      "execution_count": 1,
      "metadata": {
        "colab": {
          "base_uri": "https://localhost:8080/"
        },
        "id": "q8uivOMrOpoI",
        "outputId": "a081b0c5-1384-43f8-cd6e-8f3a855d8126"
      },
      "outputs": [
        {
          "output_type": "stream",
          "name": "stdout",
          "text": [
            "Cloning into 'thefuzz'...\n",
            "remote: Enumerating objects: 59, done.\u001b[K\n",
            "remote: Counting objects: 100% (59/59), done.\u001b[K\n",
            "remote: Compressing objects: 100% (41/41), done.\u001b[K\n",
            "remote: Total 59 (delta 18), reused 42 (delta 10), pack-reused 0\u001b[K\n",
            "Unpacking objects: 100% (59/59), done.\n"
          ]
        }
      ],
      "source": [
        "!git clone https://github.com/seatgeek/thefuzz.git"
      ]
    },
    {
      "cell_type": "code",
      "source": [
        "!pip install thefuzz"
      ],
      "metadata": {
        "colab": {
          "base_uri": "https://localhost:8080/"
        },
        "id": "2OkKaON8O0jZ",
        "outputId": "d146a412-1f8c-44bc-c9bc-e111ed7ba71a"
      },
      "execution_count": 2,
      "outputs": [
        {
          "output_type": "stream",
          "name": "stdout",
          "text": [
            "Collecting thefuzz\n",
            "  Downloading thefuzz-0.19.0-py2.py3-none-any.whl (17 kB)\n",
            "Installing collected packages: thefuzz\n",
            "Successfully installed thefuzz-0.19.0\n"
          ]
        }
      ]
    },
    {
      "cell_type": "code",
      "source": [
        "!git clone https://github.com/ztane/python-Levenshtein.git"
      ],
      "metadata": {
        "colab": {
          "base_uri": "https://localhost:8080/"
        },
        "id": "3C3LGrYSHohs",
        "outputId": "dc06df48-803e-44ac-da55-9ed7f8127a62"
      },
      "execution_count": 3,
      "outputs": [
        {
          "output_type": "stream",
          "name": "stdout",
          "text": [
            "Cloning into 'python-Levenshtein'...\n",
            "remote: Enumerating objects: 129, done.\u001b[K\n",
            "remote: Counting objects: 100% (23/23), done.\u001b[K\n",
            "remote: Compressing objects: 100% (16/16), done.\u001b[K\n",
            "remote: Total 129 (delta 10), reused 17 (delta 7), pack-reused 106\u001b[K\n",
            "Receiving objects: 100% (129/129), 153.45 KiB | 1.22 MiB/s, done.\n",
            "Resolving deltas: 100% (57/57), done.\n"
          ]
        }
      ]
    },
    {
      "cell_type": "code",
      "source": [
        "!pip install python-Levenshtein"
      ],
      "metadata": {
        "id": "VB_329mnH0KY",
        "outputId": "e3e5ef8c-6e70-4654-dc99-c5c96a15b828",
        "colab": {
          "base_uri": "https://localhost:8080/"
        }
      },
      "execution_count": 4,
      "outputs": [
        {
          "output_type": "stream",
          "name": "stdout",
          "text": [
            "Collecting python-Levenshtein\n",
            "  Downloading python-Levenshtein-0.12.2.tar.gz (50 kB)\n",
            "\u001b[?25l\r\u001b[K     |██████▌                         | 10 kB 26.0 MB/s eta 0:00:01\r\u001b[K     |█████████████                   | 20 kB 32.7 MB/s eta 0:00:01\r\u001b[K     |███████████████████▌            | 30 kB 16.3 MB/s eta 0:00:01\r\u001b[K     |██████████████████████████      | 40 kB 12.0 MB/s eta 0:00:01\r\u001b[K     |████████████████████████████████| 50 kB 4.5 MB/s \n",
            "\u001b[?25hRequirement already satisfied: setuptools in /usr/local/lib/python3.7/dist-packages (from python-Levenshtein) (57.4.0)\n",
            "Building wheels for collected packages: python-Levenshtein\n",
            "  Building wheel for python-Levenshtein (setup.py) ... \u001b[?25l\u001b[?25hdone\n",
            "  Created wheel for python-Levenshtein: filename=python_Levenshtein-0.12.2-cp37-cp37m-linux_x86_64.whl size=149861 sha256=e52cf548d3636954e4434ec9944e37805cbc769ea3d6b99bb056c7e741768941\n",
            "  Stored in directory: /root/.cache/pip/wheels/05/5f/ca/7c4367734892581bb5ff896f15027a932c551080b2abd3e00d\n",
            "Successfully built python-Levenshtein\n",
            "Installing collected packages: python-Levenshtein\n",
            "Successfully installed python-Levenshtein-0.12.2\n"
          ]
        }
      ]
    },
    {
      "cell_type": "code",
      "source": [
        "from thefuzz import fuzz\n",
        "from thefuzz import process\n",
        "  "
      ],
      "metadata": {
        "id": "KlyNyuJQO963"
      },
      "execution_count": 5,
      "outputs": []
    },
    {
      "cell_type": "markdown",
      "source": [
        "Here, we are comparing the words Farnasy and Farnesyl."
      ],
      "metadata": {
        "id": "4wcGUClHF-Us"
      }
    },
    {
      "cell_type": "code",
      "source": [
        "fuzz.ratio(\"Farnasy\", \"Farnesyl\")"
      ],
      "metadata": {
        "colab": {
          "base_uri": "https://localhost:8080/"
        },
        "id": "CaCfHYvePh85",
        "outputId": "d890c658-1839-46f9-9fb9-4530d5c6e8fe"
      },
      "execution_count": 6,
      "outputs": [
        {
          "output_type": "execute_result",
          "data": {
            "text/plain": [
              "80"
            ]
          },
          "metadata": {},
          "execution_count": 6
        }
      ]
    },
    {
      "cell_type": "markdown",
      "source": [
        "Here, 80 is the simple ratio obtained when the spellings are matched."
      ],
      "metadata": {
        "id": "nl4lK6FWGOji"
      }
    },
    {
      "cell_type": "code",
      "source": [
        "fuzz.ratio(\"alonyl-Co\", \"malonyl-CoA\")"
      ],
      "metadata": {
        "id": "wcbGkbZIVyP-",
        "colab": {
          "base_uri": "https://localhost:8080/"
        },
        "outputId": "57518411-c504-48a2-a9a5-03817ed039a3"
      },
      "execution_count": 7,
      "outputs": [
        {
          "output_type": "execute_result",
          "data": {
            "text/plain": [
              "90"
            ]
          },
          "metadata": {},
          "execution_count": 7
        }
      ]
    },
    {
      "cell_type": "code",
      "source": [
        "fuzz.ratio(\"cetoacetyl-Co\", \"acetoacetyl-CoA\")"
      ],
      "metadata": {
        "colab": {
          "base_uri": "https://localhost:8080/"
        },
        "id": "52P3hJPQT-CM",
        "outputId": "5189f4aa-ac48-4573-9fa8-94ed6e380514"
      },
      "execution_count": 8,
      "outputs": [
        {
          "output_type": "execute_result",
          "data": {
            "text/plain": [
              "93"
            ]
          },
          "metadata": {},
          "execution_count": 8
        }
      ]
    },
    {
      "cell_type": "code",
      "source": [
        "fuzz.ratio(\"etoacyl-A\", \"ketoacyl-CoA\")"
      ],
      "metadata": {
        "colab": {
          "base_uri": "https://localhost:8080/"
        },
        "id": "EA5J3s5fUfyD",
        "outputId": "d02c023c-d5d8-4eb4-c2c7-a3e687154b56"
      },
      "execution_count": 9,
      "outputs": [
        {
          "output_type": "execute_result",
          "data": {
            "text/plain": [
              "86"
            ]
          },
          "metadata": {},
          "execution_count": 9
        }
      ]
    },
    {
      "cell_type": "code",
      "source": [
        "fuzz.ratio(\"utaryl-CoA-syntha\", \"glutaryl-CoA-synthase\")"
      ],
      "metadata": {
        "colab": {
          "base_uri": "https://localhost:8080/"
        },
        "id": "286ue8CfVYFV",
        "outputId": "ee884ebe-e648-4f6a-ecfe-7dc5352b9ddc"
      },
      "execution_count": 10,
      "outputs": [
        {
          "output_type": "execute_result",
          "data": {
            "text/plain": [
              "89"
            ]
          },
          "metadata": {},
          "execution_count": 10
        }
      ]
    },
    {
      "cell_type": "code",
      "source": [
        "fuzz.ratio(\"lutaryl-Co\", \"glutaryl-CoA\")"
      ],
      "metadata": {
        "colab": {
          "base_uri": "https://localhost:8080/"
        },
        "id": "GNEk_i9KXqxz",
        "outputId": "aabaa735-c5cd-457b-ed33-1376a014dd92"
      },
      "execution_count": 11,
      "outputs": [
        {
          "output_type": "execute_result",
          "data": {
            "text/plain": [
              "91"
            ]
          },
          "metadata": {},
          "execution_count": 11
        }
      ]
    },
    {
      "cell_type": "code",
      "source": [
        "fuzz.ratio(\"rotonyl-AC\", \"crotonyl-ACP\")"
      ],
      "metadata": {
        "colab": {
          "base_uri": "https://localhost:8080/"
        },
        "id": "LIDIjzfyYC2S",
        "outputId": "b564bca3-6234-40ba-eac0-0192ea1c0124"
      },
      "execution_count": 12,
      "outputs": [
        {
          "output_type": "execute_result",
          "data": {
            "text/plain": [
              "91"
            ]
          },
          "metadata": {},
          "execution_count": 12
        }
      ]
    },
    {
      "cell_type": "code",
      "source": [
        "fuzz.ratio(\"valonate-5-phospha\", \"mevalonate-5-phosphate\")"
      ],
      "metadata": {
        "colab": {
          "base_uri": "https://localhost:8080/"
        },
        "id": "VfMGnbK1Yk9f",
        "outputId": "715d7b0d-ff70-4448-9202-7ef5bf974f28"
      },
      "execution_count": 13,
      "outputs": [
        {
          "output_type": "execute_result",
          "data": {
            "text/plain": [
              "90"
            ]
          },
          "metadata": {},
          "execution_count": 13
        }
      ]
    },
    {
      "cell_type": "code",
      "source": [
        "fuzz.ratio(\"evalonate-\", \"mevalonate\")"
      ],
      "metadata": {
        "colab": {
          "base_uri": "https://localhost:8080/"
        },
        "id": "_gqhlDS1Y98_",
        "outputId": "af66d582-3170-433e-84dc-a03b73655f56"
      },
      "execution_count": 14,
      "outputs": [
        {
          "output_type": "execute_result",
          "data": {
            "text/plain": [
              "90"
            ]
          },
          "metadata": {},
          "execution_count": 14
        }
      ]
    },
    {
      "cell_type": "code",
      "source": [
        "fuzz.ratio(\"hosphate-kinas\", \"phosphate-kinase\")"
      ],
      "metadata": {
        "colab": {
          "base_uri": "https://localhost:8080/"
        },
        "id": "knZEK_u8ZM7Q",
        "outputId": "7e054d19-97a7-4285-9a3d-5adc1305b28b"
      },
      "execution_count": 15,
      "outputs": [
        {
          "output_type": "execute_result",
          "data": {
            "text/plain": [
              "93"
            ]
          },
          "metadata": {},
          "execution_count": 15
        }
      ]
    },
    {
      "cell_type": "code",
      "source": [
        "fuzz.ratio(\"valonate-5-pyrophospha\", \"mevalonate-5-pyrophosphate\")"
      ],
      "metadata": {
        "colab": {
          "base_uri": "https://localhost:8080/"
        },
        "id": "7NNj6gIaZ6TU",
        "outputId": "8a8a6644-8ca1-4ff2-c1b5-0e0b7873f13e"
      },
      "execution_count": 16,
      "outputs": [
        {
          "output_type": "execute_result",
          "data": {
            "text/plain": [
              "92"
            ]
          },
          "metadata": {},
          "execution_count": 16
        }
      ]
    },
    {
      "cell_type": "code",
      "source": [
        "fuzz.ratio(\"arnesyl-pyrophosphat\", \"farnesyl-pyrophosphate\")"
      ],
      "metadata": {
        "colab": {
          "base_uri": "https://localhost:8080/"
        },
        "id": "UZhBdqycakz1",
        "outputId": "5e4e5324-df82-4481-fda8-07e1e5f88b26"
      },
      "execution_count": 17,
      "outputs": [
        {
          "output_type": "execute_result",
          "data": {
            "text/plain": [
              "95"
            ]
          },
          "metadata": {},
          "execution_count": 17
        }
      ]
    },
    {
      "cell_type": "code",
      "source": [
        "fuzz.ratio(\"denosyl-L-methio\", \"adenosyl-L-methionine\")"
      ],
      "metadata": {
        "colab": {
          "base_uri": "https://localhost:8080/"
        },
        "id": "wNPtRHDka5U5",
        "outputId": "7d922fa7-d536-4589-e534-1e06917882bd"
      },
      "execution_count": 18,
      "outputs": [
        {
          "output_type": "execute_result",
          "data": {
            "text/plain": [
              "86"
            ]
          },
          "metadata": {},
          "execution_count": 18
        }
      ]
    },
    {
      "cell_type": "code",
      "source": [
        "fuzz.ratio(\"denosyl-L-methion\", \"adenosyl-L-methionine\")"
      ],
      "metadata": {
        "colab": {
          "base_uri": "https://localhost:8080/"
        },
        "id": "kk2HRIu0bo2f",
        "outputId": "ffa2bdf3-cbc0-4d7f-9abf-62c991c46f51"
      },
      "execution_count": 19,
      "outputs": [
        {
          "output_type": "execute_result",
          "data": {
            "text/plain": [
              "89"
            ]
          },
          "metadata": {},
          "execution_count": 19
        }
      ]
    },
    {
      "cell_type": "code",
      "source": [
        "fuzz.ratio(\"dihydroxy-3-methylvale\", \"dihydroxy-3-methylvalerate\")"
      ],
      "metadata": {
        "colab": {
          "base_uri": "https://localhost:8080/"
        },
        "id": "HPcX3mumbu1E",
        "outputId": "457d6b81-9dab-4bfc-d733-6404aaefa253"
      },
      "execution_count": 20,
      "outputs": [
        {
          "output_type": "execute_result",
          "data": {
            "text/plain": [
              "92"
            ]
          },
          "metadata": {},
          "execution_count": 20
        }
      ]
    },
    {
      "cell_type": "code",
      "source": [
        "fuzz.ratio(\"oxo-3methylpentano\", \"oxo-3-methylpentanoate\")"
      ],
      "metadata": {
        "colab": {
          "base_uri": "https://localhost:8080/"
        },
        "id": "ZxmMh1GndnSx",
        "outputId": "63e23093-03a6-4bc4-f5f5-0c67fd73a5e1"
      },
      "execution_count": 21,
      "outputs": [
        {
          "output_type": "execute_result",
          "data": {
            "text/plain": [
              "90"
            ]
          },
          "metadata": {},
          "execution_count": 21
        }
      ]
    },
    {
      "cell_type": "code",
      "source": [
        "fuzz.ratio(\"cinnimate\", \"cinnamate\")"
      ],
      "metadata": {
        "colab": {
          "base_uri": "https://localhost:8080/"
        },
        "id": "76ISAiVlesfG",
        "outputId": "b6be55a1-439a-49e0-bfca-83ed861ab67b"
      },
      "execution_count": 22,
      "outputs": [
        {
          "output_type": "execute_result",
          "data": {
            "text/plain": [
              "89"
            ]
          },
          "metadata": {},
          "execution_count": 22
        }
      ]
    },
    {
      "cell_type": "code",
      "source": [
        "fuzz.ratio(\"isopenteny\", \"isopentenyl\")"
      ],
      "metadata": {
        "colab": {
          "base_uri": "https://localhost:8080/"
        },
        "id": "Z80PQx9ae859",
        "outputId": "65e31465-e499-4dd9-9f26-6b32d1990950"
      },
      "execution_count": 23,
      "outputs": [
        {
          "output_type": "execute_result",
          "data": {
            "text/plain": [
              "95"
            ]
          },
          "metadata": {},
          "execution_count": 23
        }
      ]
    },
    {
      "cell_type": "code",
      "source": [
        "fuzz.ratio(\"sopentyl-diphosphat\", \"isopentenyl-diphosphate\")"
      ],
      "metadata": {
        "colab": {
          "base_uri": "https://localhost:8080/"
        },
        "id": "kJQYJVvYfzID",
        "outputId": "0df0c8b3-eb4f-4895-8648-b2e25539b270"
      },
      "execution_count": 24,
      "outputs": [
        {
          "output_type": "execute_result",
          "data": {
            "text/plain": [
              "90"
            ]
          },
          "metadata": {},
          "execution_count": 24
        }
      ]
    },
    {
      "cell_type": "code",
      "source": [
        "fuzz.ratio(\"elta-isomeras\", \"delta-isomerase\")"
      ],
      "metadata": {
        "colab": {
          "base_uri": "https://localhost:8080/"
        },
        "id": "Jb7CCAy5gTnl",
        "outputId": "33788838-883d-486f-ffa6-666adb157f57"
      },
      "execution_count": 25,
      "outputs": [
        {
          "output_type": "execute_result",
          "data": {
            "text/plain": [
              "93"
            ]
          },
          "metadata": {},
          "execution_count": 25
        }
      ]
    },
    {
      "cell_type": "code",
      "source": [
        "fuzz.ratio(\"eiuene\", \"cumene\")"
      ],
      "metadata": {
        "colab": {
          "base_uri": "https://localhost:8080/"
        },
        "id": "W7bdaHAlipmC",
        "outputId": "719458be-829c-4e2f-bdc7-8a43e594bb39"
      },
      "execution_count": 26,
      "outputs": [
        {
          "output_type": "execute_result",
          "data": {
            "text/plain": [
              "67"
            ]
          },
          "metadata": {},
          "execution_count": 26
        }
      ]
    },
    {
      "cell_type": "code",
      "source": [
        "fuzz.ratio(\"eiuene\", \"ethane\")"
      ],
      "metadata": {
        "colab": {
          "base_uri": "https://localhost:8080/"
        },
        "id": "yHb5WYXKitRK",
        "outputId": "294e19d7-9100-4071-ff4f-4b74f1103f5d"
      },
      "execution_count": 27,
      "outputs": [
        {
          "output_type": "execute_result",
          "data": {
            "text/plain": [
              "50"
            ]
          },
          "metadata": {},
          "execution_count": 27
        }
      ]
    },
    {
      "cell_type": "code",
      "source": [
        "fuzz.ratio(\"eto-3-methylvaler\", \"keto-3-methylvalerate\")"
      ],
      "metadata": {
        "colab": {
          "base_uri": "https://localhost:8080/"
        },
        "id": "Fg6tEFtMi4Zo",
        "outputId": "2c6589e7-4474-4721-aa85-88d81334b168"
      },
      "execution_count": 28,
      "outputs": [
        {
          "output_type": "execute_result",
          "data": {
            "text/plain": [
              "89"
            ]
          },
          "metadata": {},
          "execution_count": 28
        }
      ]
    },
    {
      "cell_type": "code",
      "source": [
        "fuzz.ratio(\"eto-3-methylvaler\", \"keto-3-methylvaleric acid\")"
      ],
      "metadata": {
        "colab": {
          "base_uri": "https://localhost:8080/"
        },
        "id": "Mf06YisQjLQq",
        "outputId": "c63837a5-e39e-4556-f326-b5b94f84f8a6"
      },
      "execution_count": 29,
      "outputs": [
        {
          "output_type": "execute_result",
          "data": {
            "text/plain": [
              "81"
            ]
          },
          "metadata": {},
          "execution_count": 29
        }
      ]
    },
    {
      "cell_type": "code",
      "source": [
        "fuzz.ratio(\"minocyclopropane-1-carboxyl\", \"aminocyclopropane-1-carboxylic acid\")"
      ],
      "metadata": {
        "colab": {
          "base_uri": "https://localhost:8080/"
        },
        "id": "4VkAJSZzj2km",
        "outputId": "0701a36a-6e4b-4448-c304-9cfb71015898"
      },
      "execution_count": 30,
      "outputs": [
        {
          "output_type": "execute_result",
          "data": {
            "text/plain": [
              "87"
            ]
          },
          "metadata": {},
          "execution_count": 30
        }
      ]
    },
    {
      "cell_type": "code",
      "source": [
        "fuzz.ratio(\"minocyclopropane-1-carboxyl\", \"aminocyclopropane-1-carboxylate synthase\")"
      ],
      "metadata": {
        "colab": {
          "base_uri": "https://localhost:8080/"
        },
        "id": "jHrlBsgSkZv1",
        "outputId": "17a3a90a-8b86-4881-fb28-e1fee471eb51"
      },
      "execution_count": 31,
      "outputs": [
        {
          "output_type": "execute_result",
          "data": {
            "text/plain": [
              "81"
            ]
          },
          "metadata": {},
          "execution_count": 31
        }
      ]
    },
    {
      "cell_type": "code",
      "source": [
        "fuzz.ratio(\"minocyclopropane-1-carboxyl\", \"aminocyclopropane-1-carboxylate oxide\")"
      ],
      "metadata": {
        "colab": {
          "base_uri": "https://localhost:8080/"
        },
        "id": "ZKWWFOYgkmo3",
        "outputId": "3dd6e9fb-f019-4394-cc63-acdfedd04fe7"
      },
      "execution_count": 32,
      "outputs": [
        {
          "output_type": "execute_result",
          "data": {
            "text/plain": [
              "84"
            ]
          },
          "metadata": {},
          "execution_count": 32
        }
      ]
    },
    {
      "cell_type": "code",
      "source": [
        "fuzz.ratio(\"ydroxy-3-met\", \"hydroxy-3-methylbutyrate\")"
      ],
      "metadata": {
        "colab": {
          "base_uri": "https://localhost:8080/"
        },
        "id": "op3Y38LOkq02",
        "outputId": "5adbfafd-de3e-4e8e-99bf-1746711f1e68"
      },
      "execution_count": 33,
      "outputs": [
        {
          "output_type": "execute_result",
          "data": {
            "text/plain": [
              "67"
            ]
          },
          "metadata": {},
          "execution_count": 33
        }
      ]
    },
    {
      "cell_type": "code",
      "source": [
        "fuzz.ratio(\"ydroxy-3-met\", \"hydroxy-3-methylglutaryl\")"
      ],
      "metadata": {
        "colab": {
          "base_uri": "https://localhost:8080/"
        },
        "id": "pM7Wk39Rldkg",
        "outputId": "ee4a4d10-3406-4f3c-d9c8-b7c8cde8ec90"
      },
      "execution_count": 34,
      "outputs": [
        {
          "output_type": "execute_result",
          "data": {
            "text/plain": [
              "67"
            ]
          },
          "metadata": {},
          "execution_count": 34
        }
      ]
    },
    {
      "cell_type": "code",
      "source": [
        "fuzz.ratio(\"ydroxy-3-met\", \"hydroxy-3-methylhexanoic acid\")"
      ],
      "metadata": {
        "colab": {
          "base_uri": "https://localhost:8080/"
        },
        "id": "1H5qddqVll8j",
        "outputId": "64b7040a-a1e3-4ce6-8e4d-8635685be711"
      },
      "execution_count": 35,
      "outputs": [
        {
          "output_type": "execute_result",
          "data": {
            "text/plain": [
              "59"
            ]
          },
          "metadata": {},
          "execution_count": 35
        }
      ]
    },
    {
      "cell_type": "code",
      "source": [
        "fuzz.ratio(\"ydroxy-3-met\", \"hydroxy-3-methylbenzene\")"
      ],
      "metadata": {
        "colab": {
          "base_uri": "https://localhost:8080/"
        },
        "id": "dgE3PA6Bl1kK",
        "outputId": "bed6ceb0-4466-47e0-df68-7e2772daac9c"
      },
      "execution_count": 36,
      "outputs": [
        {
          "output_type": "execute_result",
          "data": {
            "text/plain": [
              "69"
            ]
          },
          "metadata": {},
          "execution_count": 36
        }
      ]
    },
    {
      "cell_type": "code",
      "source": [
        "fuzz.ratio(\"cetyl-Co\", \"acetyl-CoA\")"
      ],
      "metadata": {
        "colab": {
          "base_uri": "https://localhost:8080/"
        },
        "id": "ENiSxoG9yELQ",
        "outputId": "93e1f4e6-4b21-4f22-af80-5ca8db1add41"
      },
      "execution_count": 37,
      "outputs": [
        {
          "output_type": "execute_result",
          "data": {
            "text/plain": [
              "89"
            ]
          },
          "metadata": {},
          "execution_count": 37
        }
      ]
    }
  ]
}
