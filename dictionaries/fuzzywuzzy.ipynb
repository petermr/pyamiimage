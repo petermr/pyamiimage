{
  "nbformat": 4,
  "nbformat_minor": 0,
  "metadata": {
    "colab": {
      "name": "fuzzywuzzy.ipynb",
      "provenance": [],
      "authorship_tag": "ABX9TyN2ydnf3ping5aBEbpZ8GGm",
      "include_colab_link": true
    },
    "kernelspec": {
      "name": "python3",
      "display_name": "Python 3"
    },
    "language_info": {
      "name": "python"
    }
  },
  "cells": [
    {
      "cell_type": "markdown",
      "metadata": {
        "id": "view-in-github",
        "colab_type": "text"
      },
      "source": [
        "<a href=\"https://colab.research.google.com/github/petermr/pyamiimage/blob/roopa-testing/dictionaries/fuzzywuzzy.ipynb\" target=\"_parent\"><img src=\"https://colab.research.google.com/assets/colab-badge.svg\" alt=\"Open In Colab\"/></a>"
      ]
    },
    {
      "cell_type": "markdown",
      "source": [
        "## Fuzzywuzzy test\n",
        "\n",
        "Fuzzywuzzy is a library used to match strings in Python by producing a similarity index score out of 100.\n"
      ],
      "metadata": {
        "id": "JFDAsg_UFTIa"
      }
    },
    {
      "cell_type": "code",
      "execution_count": 1,
      "metadata": {
        "colab": {
          "base_uri": "https://localhost:8080/"
        },
        "id": "q8uivOMrOpoI",
        "outputId": "fc689ef6-a7eb-41dd-d166-babccafe7d65"
      },
      "outputs": [
        {
          "output_type": "stream",
          "name": "stdout",
          "text": [
            "Cloning into 'thefuzz'...\n",
            "remote: Enumerating objects: 59, done.\u001b[K\n",
            "remote: Counting objects: 100% (59/59), done.\u001b[K\n",
            "remote: Compressing objects: 100% (41/41), done.\u001b[K\n",
            "remote: Total 59 (delta 18), reused 42 (delta 10), pack-reused 0\u001b[K\n",
            "Unpacking objects: 100% (59/59), done.\n"
          ]
        }
      ],
      "source": [
        "!git clone https://github.com/seatgeek/thefuzz.git"
      ]
    },
    {
      "cell_type": "code",
      "source": [
        "!pip install thefuzz"
      ],
      "metadata": {
        "colab": {
          "base_uri": "https://localhost:8080/"
        },
        "id": "2OkKaON8O0jZ",
        "outputId": "f2c6b78f-aad1-4253-92e1-1ba267dc9780"
      },
      "execution_count": 2,
      "outputs": [
        {
          "output_type": "stream",
          "name": "stdout",
          "text": [
            "Collecting thefuzz\n",
            "  Downloading thefuzz-0.19.0-py2.py3-none-any.whl (17 kB)\n",
            "Installing collected packages: thefuzz\n",
            "Successfully installed thefuzz-0.19.0\n"
          ]
        }
      ]
    },
    {
      "cell_type": "code",
      "source": [
        "from thefuzz import fuzz\n",
        "from thefuzz import process\n",
        "  "
      ],
      "metadata": {
        "colab": {
          "base_uri": "https://localhost:8080/"
        },
        "id": "KlyNyuJQO963",
        "outputId": "6cda666e-0b82-48bd-ff1f-4a48a1378d20"
      },
      "execution_count": 3,
      "outputs": [
        {
          "output_type": "stream",
          "name": "stderr",
          "text": [
            "/usr/local/lib/python3.7/dist-packages/thefuzz/fuzz.py:11: UserWarning: Using slow pure-python SequenceMatcher. Install python-Levenshtein to remove this warning\n",
            "  warnings.warn('Using slow pure-python SequenceMatcher. Install python-Levenshtein to remove this warning')\n"
          ]
        }
      ]
    },
    {
      "cell_type": "markdown",
      "source": [
        "Here, we are comparing the words Farnasy and Farnesyl."
      ],
      "metadata": {
        "id": "4wcGUClHF-Us"
      }
    },
    {
      "cell_type": "code",
      "source": [
        "fuzz.ratio(\"Farnasy\", \"Farnesyl\")"
      ],
      "metadata": {
        "colab": {
          "base_uri": "https://localhost:8080/"
        },
        "id": "CaCfHYvePh85",
        "outputId": "2a6dbc53-2203-44ee-df73-fad3e4e900da"
      },
      "execution_count": 4,
      "outputs": [
        {
          "output_type": "execute_result",
          "data": {
            "text/plain": [
              "80"
            ]
          },
          "metadata": {},
          "execution_count": 4
        }
      ]
    },
    {
      "cell_type": "markdown",
      "source": [
        "The test result is 80. That means the words are 80% similar."
      ],
      "metadata": {
        "id": "nl4lK6FWGOji"
      }
    },
    {
      "cell_type": "code",
      "source": [
        "fuzz.ratio(\"alonyl-Co\", \"malonyl-CoA\")"
      ],
      "metadata": {
        "id": "wcbGkbZIVyP-",
        "colab": {
          "base_uri": "https://localhost:8080/"
        },
        "outputId": "4f39cc3d-aef1-4d48-cc4f-92dad23dc847"
      },
      "execution_count": 5,
      "outputs": [
        {
          "output_type": "execute_result",
          "data": {
            "text/plain": [
              "90"
            ]
          },
          "metadata": {},
          "execution_count": 5
        }
      ]
    },
    {
      "cell_type": "code",
      "source": [
        "fuzz.ratio(\"cetoacetyl-Co\", \"acetoacetyl-CoA\")"
      ],
      "metadata": {
        "colab": {
          "base_uri": "https://localhost:8080/"
        },
        "id": "52P3hJPQT-CM",
        "outputId": "999ba622-65af-4389-867c-e61a06a0a69e"
      },
      "execution_count": 6,
      "outputs": [
        {
          "output_type": "execute_result",
          "data": {
            "text/plain": [
              "93"
            ]
          },
          "metadata": {},
          "execution_count": 6
        }
      ]
    },
    {
      "cell_type": "code",
      "source": [
        "fuzz.ratio(\"etoacyl-A\", \"ketoacyl-CoA\")"
      ],
      "metadata": {
        "colab": {
          "base_uri": "https://localhost:8080/"
        },
        "id": "EA5J3s5fUfyD",
        "outputId": "49a5dcb4-5656-48a1-85b8-c6cd29d11527"
      },
      "execution_count": 7,
      "outputs": [
        {
          "output_type": "execute_result",
          "data": {
            "text/plain": [
              "86"
            ]
          },
          "metadata": {},
          "execution_count": 7
        }
      ]
    },
    {
      "cell_type": "code",
      "source": [
        "fuzz.ratio(\"utaryl-CoA-syntha\", \"glutaryl-CoA-synthase\")"
      ],
      "metadata": {
        "colab": {
          "base_uri": "https://localhost:8080/"
        },
        "id": "286ue8CfVYFV",
        "outputId": "c991003d-4f48-4cb8-915f-3eae7a1d272a"
      },
      "execution_count": 8,
      "outputs": [
        {
          "output_type": "execute_result",
          "data": {
            "text/plain": [
              "89"
            ]
          },
          "metadata": {},
          "execution_count": 8
        }
      ]
    },
    {
      "cell_type": "code",
      "source": [
        "fuzz.ratio(\"lutaryl-Co\", \"glutaryl-CoA\")"
      ],
      "metadata": {
        "colab": {
          "base_uri": "https://localhost:8080/"
        },
        "id": "GNEk_i9KXqxz",
        "outputId": "7d20cd14-9ceb-4c31-f6ae-f4208cc60736"
      },
      "execution_count": 9,
      "outputs": [
        {
          "output_type": "execute_result",
          "data": {
            "text/plain": [
              "91"
            ]
          },
          "metadata": {},
          "execution_count": 9
        }
      ]
    },
    {
      "cell_type": "code",
      "source": [
        "fuzz.ratio(\"rotonyl-AC\", \"crotonyl-ACP\")"
      ],
      "metadata": {
        "colab": {
          "base_uri": "https://localhost:8080/"
        },
        "id": "LIDIjzfyYC2S",
        "outputId": "b0b3c7f4-2d6d-491c-aa36-b0ddc9aa102f"
      },
      "execution_count": 10,
      "outputs": [
        {
          "output_type": "execute_result",
          "data": {
            "text/plain": [
              "91"
            ]
          },
          "metadata": {},
          "execution_count": 10
        }
      ]
    },
    {
      "cell_type": "code",
      "source": [
        "fuzz.ratio(\"valonate-5-phospha\", \"mevalonate-5-phosphate\")"
      ],
      "metadata": {
        "colab": {
          "base_uri": "https://localhost:8080/"
        },
        "id": "VfMGnbK1Yk9f",
        "outputId": "3fabfa9c-7f10-432e-e1d6-c0e979791522"
      },
      "execution_count": 11,
      "outputs": [
        {
          "output_type": "execute_result",
          "data": {
            "text/plain": [
              "90"
            ]
          },
          "metadata": {},
          "execution_count": 11
        }
      ]
    },
    {
      "cell_type": "code",
      "source": [
        "fuzz.ratio(\"evalonate-\", \"mevalonate\")"
      ],
      "metadata": {
        "colab": {
          "base_uri": "https://localhost:8080/"
        },
        "id": "_gqhlDS1Y98_",
        "outputId": "93f43843-6c2f-4824-b118-e1ab7dd5010a"
      },
      "execution_count": 12,
      "outputs": [
        {
          "output_type": "execute_result",
          "data": {
            "text/plain": [
              "90"
            ]
          },
          "metadata": {},
          "execution_count": 12
        }
      ]
    },
    {
      "cell_type": "code",
      "source": [
        "fuzz.ratio(\"hosphate-kinas\", \"phosphate-kinase\")"
      ],
      "metadata": {
        "colab": {
          "base_uri": "https://localhost:8080/"
        },
        "id": "knZEK_u8ZM7Q",
        "outputId": "beace9aa-0bc0-465f-efc8-ff4d2a1846be"
      },
      "execution_count": 13,
      "outputs": [
        {
          "output_type": "execute_result",
          "data": {
            "text/plain": [
              "93"
            ]
          },
          "metadata": {},
          "execution_count": 13
        }
      ]
    },
    {
      "cell_type": "code",
      "source": [
        "fuzz.ratio(\"valonate-5-pyrophospha\", \"mevalonate-5-pyrophosphate\")"
      ],
      "metadata": {
        "colab": {
          "base_uri": "https://localhost:8080/"
        },
        "id": "7NNj6gIaZ6TU",
        "outputId": "1560d6c8-679e-4f53-e1d8-41b521abb341"
      },
      "execution_count": 14,
      "outputs": [
        {
          "output_type": "execute_result",
          "data": {
            "text/plain": [
              "92"
            ]
          },
          "metadata": {},
          "execution_count": 14
        }
      ]
    },
    {
      "cell_type": "code",
      "source": [
        "fuzz.ratio(\"arnesyl-pyrophosphat\", \"farnesyl-pyrophosphate\")"
      ],
      "metadata": {
        "colab": {
          "base_uri": "https://localhost:8080/"
        },
        "id": "UZhBdqycakz1",
        "outputId": "004560af-a473-43fd-f2b9-b2b6187b1342"
      },
      "execution_count": 15,
      "outputs": [
        {
          "output_type": "execute_result",
          "data": {
            "text/plain": [
              "95"
            ]
          },
          "metadata": {},
          "execution_count": 15
        }
      ]
    },
    {
      "cell_type": "code",
      "source": [
        "fuzz.ratio(\"denosyl-L-methio\", \"adenosyl-L-methionine\")"
      ],
      "metadata": {
        "colab": {
          "base_uri": "https://localhost:8080/"
        },
        "id": "wNPtRHDka5U5",
        "outputId": "96aee2c3-8be2-4b62-8be3-0f9e2a260037"
      },
      "execution_count": 16,
      "outputs": [
        {
          "output_type": "execute_result",
          "data": {
            "text/plain": [
              "86"
            ]
          },
          "metadata": {},
          "execution_count": 16
        }
      ]
    },
    {
      "cell_type": "code",
      "source": [
        "fuzz.ratio(\"denosyl-L-methion\", \"adenosyl-L-methionine\")"
      ],
      "metadata": {
        "colab": {
          "base_uri": "https://localhost:8080/"
        },
        "id": "kk2HRIu0bo2f",
        "outputId": "4d317144-6ad9-4f36-9283-76174ece5305"
      },
      "execution_count": 17,
      "outputs": [
        {
          "output_type": "execute_result",
          "data": {
            "text/plain": [
              "89"
            ]
          },
          "metadata": {},
          "execution_count": 17
        }
      ]
    },
    {
      "cell_type": "code",
      "source": [
        "fuzz.ratio(\"dihydroxy-3-methylvale\", \"dihydroxy-3-methylvalerate\")"
      ],
      "metadata": {
        "colab": {
          "base_uri": "https://localhost:8080/"
        },
        "id": "HPcX3mumbu1E",
        "outputId": "43e411de-65c4-4887-c601-6222e1922117"
      },
      "execution_count": 18,
      "outputs": [
        {
          "output_type": "execute_result",
          "data": {
            "text/plain": [
              "92"
            ]
          },
          "metadata": {},
          "execution_count": 18
        }
      ]
    },
    {
      "cell_type": "code",
      "source": [
        "fuzz.ratio(\"oxo-3methylpentano\", \"oxo-3-methylpentanoate\")"
      ],
      "metadata": {
        "colab": {
          "base_uri": "https://localhost:8080/"
        },
        "id": "ZxmMh1GndnSx",
        "outputId": "a062e162-18d9-46bb-c76f-4e67119dfbde"
      },
      "execution_count": 19,
      "outputs": [
        {
          "output_type": "execute_result",
          "data": {
            "text/plain": [
              "90"
            ]
          },
          "metadata": {},
          "execution_count": 19
        }
      ]
    },
    {
      "cell_type": "code",
      "source": [
        "fuzz.ratio(\"cinnimate\", \"cinnamate\")"
      ],
      "metadata": {
        "colab": {
          "base_uri": "https://localhost:8080/"
        },
        "id": "76ISAiVlesfG",
        "outputId": "4a3f7c2d-8479-4e64-d271-ccaa6c4dcf72"
      },
      "execution_count": 20,
      "outputs": [
        {
          "output_type": "execute_result",
          "data": {
            "text/plain": [
              "89"
            ]
          },
          "metadata": {},
          "execution_count": 20
        }
      ]
    },
    {
      "cell_type": "code",
      "source": [
        "fuzz.ratio(\"isopenteny\", \"isopentenyl\")"
      ],
      "metadata": {
        "colab": {
          "base_uri": "https://localhost:8080/"
        },
        "id": "Z80PQx9ae859",
        "outputId": "72326c60-7662-402d-91d4-61113a0140b4"
      },
      "execution_count": 21,
      "outputs": [
        {
          "output_type": "execute_result",
          "data": {
            "text/plain": [
              "95"
            ]
          },
          "metadata": {},
          "execution_count": 21
        }
      ]
    },
    {
      "cell_type": "code",
      "source": [
        "fuzz.ratio(\"sopentyl-diphosphat\", \"isopentenyl-diphosphate\")"
      ],
      "metadata": {
        "colab": {
          "base_uri": "https://localhost:8080/"
        },
        "id": "kJQYJVvYfzID",
        "outputId": "d8a79acb-4079-4ce6-ca4d-062c5ba1e9a4"
      },
      "execution_count": 22,
      "outputs": [
        {
          "output_type": "execute_result",
          "data": {
            "text/plain": [
              "90"
            ]
          },
          "metadata": {},
          "execution_count": 22
        }
      ]
    },
    {
      "cell_type": "code",
      "source": [
        "fuzz.ratio(\"elta-isomeras\", \"delta-isomerase\")"
      ],
      "metadata": {
        "colab": {
          "base_uri": "https://localhost:8080/"
        },
        "id": "Jb7CCAy5gTnl",
        "outputId": "a0d19d31-86df-4833-dfa0-598bd7369693"
      },
      "execution_count": 23,
      "outputs": [
        {
          "output_type": "execute_result",
          "data": {
            "text/plain": [
              "93"
            ]
          },
          "metadata": {},
          "execution_count": 23
        }
      ]
    },
    {
      "cell_type": "code",
      "source": [
        "fuzz.ratio(\"eiuene\", \"cumene\")"
      ],
      "metadata": {
        "colab": {
          "base_uri": "https://localhost:8080/"
        },
        "id": "W7bdaHAlipmC",
        "outputId": "bad34c69-71d6-4d95-b4d8-d5e84fcc2e20"
      },
      "execution_count": 24,
      "outputs": [
        {
          "output_type": "execute_result",
          "data": {
            "text/plain": [
              "67"
            ]
          },
          "metadata": {},
          "execution_count": 24
        }
      ]
    },
    {
      "cell_type": "code",
      "source": [
        "fuzz.ratio(\"eiuene\", \"ethane\")"
      ],
      "metadata": {
        "colab": {
          "base_uri": "https://localhost:8080/"
        },
        "id": "yHb5WYXKitRK",
        "outputId": "502501b3-abd6-4e91-e4b4-2548b7b23a7b"
      },
      "execution_count": 25,
      "outputs": [
        {
          "output_type": "execute_result",
          "data": {
            "text/plain": [
              "50"
            ]
          },
          "metadata": {},
          "execution_count": 25
        }
      ]
    },
    {
      "cell_type": "code",
      "source": [
        "fuzz.ratio(\"eto-3-methylvaler\", \"keto-3-methylvalerate\")"
      ],
      "metadata": {
        "colab": {
          "base_uri": "https://localhost:8080/"
        },
        "id": "Fg6tEFtMi4Zo",
        "outputId": "fc1091d5-3d52-407e-dd34-a4a671a6f418"
      },
      "execution_count": 26,
      "outputs": [
        {
          "output_type": "execute_result",
          "data": {
            "text/plain": [
              "89"
            ]
          },
          "metadata": {},
          "execution_count": 26
        }
      ]
    },
    {
      "cell_type": "code",
      "source": [
        "fuzz.ratio(\"eto-3-methylvaler\", \"keto-3-methylvaleric acid\")"
      ],
      "metadata": {
        "colab": {
          "base_uri": "https://localhost:8080/"
        },
        "id": "Mf06YisQjLQq",
        "outputId": "4f00bdbb-cbad-496f-b2fc-31a53072e293"
      },
      "execution_count": 27,
      "outputs": [
        {
          "output_type": "execute_result",
          "data": {
            "text/plain": [
              "81"
            ]
          },
          "metadata": {},
          "execution_count": 27
        }
      ]
    },
    {
      "cell_type": "code",
      "source": [
        "fuzz.ratio(\"minocyclopropane-1-carboxyl\", \"aminocyclopropane-1-carboxylic acid\")"
      ],
      "metadata": {
        "colab": {
          "base_uri": "https://localhost:8080/"
        },
        "id": "4VkAJSZzj2km",
        "outputId": "d2a52867-196e-4a05-8d3b-86e7d286ba33"
      },
      "execution_count": 28,
      "outputs": [
        {
          "output_type": "execute_result",
          "data": {
            "text/plain": [
              "87"
            ]
          },
          "metadata": {},
          "execution_count": 28
        }
      ]
    },
    {
      "cell_type": "code",
      "source": [
        "fuzz.ratio(\"minocyclopropane-1-carboxyl\", \"aminocyclopropane-1-carboxylate synthase\")"
      ],
      "metadata": {
        "colab": {
          "base_uri": "https://localhost:8080/"
        },
        "id": "jHrlBsgSkZv1",
        "outputId": "748532da-f2d6-4fbc-f844-3da84a808476"
      },
      "execution_count": 29,
      "outputs": [
        {
          "output_type": "execute_result",
          "data": {
            "text/plain": [
              "81"
            ]
          },
          "metadata": {},
          "execution_count": 29
        }
      ]
    },
    {
      "cell_type": "code",
      "source": [
        "fuzz.ratio(\"minocyclopropane-1-carboxyl\", \"aminocyclopropane-1-carboxylate oxide\")"
      ],
      "metadata": {
        "colab": {
          "base_uri": "https://localhost:8080/"
        },
        "id": "ZKWWFOYgkmo3",
        "outputId": "6627287a-860d-43e9-caa9-dd4337b04eed"
      },
      "execution_count": 30,
      "outputs": [
        {
          "output_type": "execute_result",
          "data": {
            "text/plain": [
              "84"
            ]
          },
          "metadata": {},
          "execution_count": 30
        }
      ]
    },
    {
      "cell_type": "code",
      "source": [
        "fuzz.ratio(\"ydroxy-3-met\", \"hydroxy-3-methylbutyrate\")"
      ],
      "metadata": {
        "colab": {
          "base_uri": "https://localhost:8080/"
        },
        "id": "op3Y38LOkq02",
        "outputId": "13b095d0-4734-4748-96e0-5a64eb98e686"
      },
      "execution_count": 31,
      "outputs": [
        {
          "output_type": "execute_result",
          "data": {
            "text/plain": [
              "67"
            ]
          },
          "metadata": {},
          "execution_count": 31
        }
      ]
    },
    {
      "cell_type": "code",
      "source": [
        "fuzz.ratio(\"ydroxy-3-met\", \"hydroxy-3-methylglutaryl\")"
      ],
      "metadata": {
        "colab": {
          "base_uri": "https://localhost:8080/"
        },
        "id": "pM7Wk39Rldkg",
        "outputId": "045f98b7-f601-42c7-af5c-1afdce0bb5f0"
      },
      "execution_count": 32,
      "outputs": [
        {
          "output_type": "execute_result",
          "data": {
            "text/plain": [
              "67"
            ]
          },
          "metadata": {},
          "execution_count": 32
        }
      ]
    },
    {
      "cell_type": "code",
      "source": [
        "fuzz.ratio(\"ydroxy-3-met\", \"hydroxy-3-methylhexanoic acid\")"
      ],
      "metadata": {
        "colab": {
          "base_uri": "https://localhost:8080/"
        },
        "id": "1H5qddqVll8j",
        "outputId": "6c6538cb-1f8d-4484-826b-f425604eb28e"
      },
      "execution_count": 33,
      "outputs": [
        {
          "output_type": "execute_result",
          "data": {
            "text/plain": [
              "59"
            ]
          },
          "metadata": {},
          "execution_count": 33
        }
      ]
    },
    {
      "cell_type": "code",
      "source": [
        "fuzz.ratio(\"ydroxy-3-met\", \"hydroxy-3-methylbenzene\")"
      ],
      "metadata": {
        "colab": {
          "base_uri": "https://localhost:8080/"
        },
        "id": "dgE3PA6Bl1kK",
        "outputId": "b82e609d-80d5-4e36-84d6-4361f14117d0"
      },
      "execution_count": 34,
      "outputs": [
        {
          "output_type": "execute_result",
          "data": {
            "text/plain": [
              "69"
            ]
          },
          "metadata": {},
          "execution_count": 34
        }
      ]
    },
    {
      "cell_type": "code",
      "source": [
        "fuzz.ratio(\"cetyl-Co\", \"acetyl-CoA\")"
      ],
      "metadata": {
        "colab": {
          "base_uri": "https://localhost:8080/"
        },
        "id": "ENiSxoG9yELQ",
        "outputId": "054313c7-f5f9-4ebc-9e8b-7beacd0c6e2e"
      },
      "execution_count": 35,
      "outputs": [
        {
          "output_type": "execute_result",
          "data": {
            "text/plain": [
              "89"
            ]
          },
          "metadata": {},
          "execution_count": 35
        }
      ]
    }
  ]
}